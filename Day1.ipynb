{
  "cells": [
    {
      "metadata": {
        "collapsed": true
      },
      "cell_type": "markdown",
      "source": "# DAY 1"
    },
    {
      "metadata": {},
      "cell_type": "markdown",
      "source": "This repo contains an introduction to [Numpy](https://numpy.org/).\n\nNumpy stands for Numerical Python. It is useful for handling operations on large amount of data. Datasets comes in all forms like textual, audio, video, etc. Numpy helps in representing these type of data in the form of arrays. The dimension of the array depends on the type of data we are dealing with. Numpy package is useful in handling such numerical arrays and operate on them.\n\nReferences : \n\n* [Numpy official Documentation](https://numpy.org/)\n* [Introduction to Numpy](https://jakevdp.github.io/PythonDataScienceHandbook/02.00-introduction-to-numpy.html)\n"
    },
    {
      "metadata": {
        "trusted": true
      },
      "cell_type": "code",
      "source": "#Importing numpy\n\nimport numpy as np #np is the alias\n\nnp.__version__",
      "execution_count": 2,
      "outputs": [
        {
          "output_type": "execute_result",
          "execution_count": 2,
          "data": {
            "text/plain": "'1.16.2'"
          },
          "metadata": {}
        }
      ]
    },
    {
      "metadata": {},
      "cell_type": "markdown",
      "source": "## Difference between a list and a Numpy Array\n\n* Each item in the Python list contains its own type info, reference count and other information.\n* At the implementation level, Numpy Array contains a single pointer to a contiguous block of data, whereas python list contains a pointer to a block of pointers, each of which in turn points to a full python object.\n* A list is flexible and can store data of all types; A Numpy Array is a fixed type array\n* A Numpy array is more efficient in storing and manipulating data than a list.\n"
    },
    {
      "metadata": {},
      "cell_type": "markdown",
      "source": "### Example of Fixed type Array"
    },
    {
      "metadata": {
        "trusted": true
      },
      "cell_type": "code",
      "source": "import array\n\narr = array.array('i', [1, 2, 3, 4, 5, 6])\n\n#Returns the start address in memory and number of elements in array\narr.buffer_info()  ",
      "execution_count": 5,
      "outputs": [
        {
          "output_type": "execute_result",
          "execution_count": 5,
          "data": {
            "text/plain": "(140265291152576, 6)"
          },
          "metadata": {}
        }
      ]
    },
    {
      "metadata": {},
      "cell_type": "markdown",
      "source": "### Create arrays from Python List"
    },
    {
      "metadata": {
        "trusted": true
      },
      "cell_type": "code",
      "source": "list_same_type = [1, 2, 3, 4, 5]\n\nnp.array(list_same_type)",
      "execution_count": 9,
      "outputs": [
        {
          "output_type": "execute_result",
          "execution_count": 9,
          "data": {
            "text/plain": "array([1, 2, 3, 4, 5])"
          },
          "metadata": {}
        }
      ]
    },
    {
      "metadata": {
        "trusted": true
      },
      "cell_type": "code",
      "source": "list_diff_type = [1.0, 2, 3, 4]\n\n#If type is different, Numpy upcasts the elements if possible; Here, integer elements are upcasted to float type \nnp.array(list_diff_type)",
      "execution_count": 7,
      "outputs": [
        {
          "output_type": "execute_result",
          "execution_count": 7,
          "data": {
            "text/plain": "array([1., 2., 3., 4.])"
          },
          "metadata": {}
        }
      ]
    },
    {
      "metadata": {
        "trusted": true
      },
      "cell_type": "code",
      "source": "list_diff_type1 = [1.0, 2, 3, 4, \"anu\"]\n\nnp.array(list_diff_type1)",
      "execution_count": 8,
      "outputs": [
        {
          "output_type": "execute_result",
          "execution_count": 8,
          "data": {
            "text/plain": "array(['1.0', '2', '3', '4', 'anu'], dtype='<U32')"
          },
          "metadata": {}
        }
      ]
    },
    {
      "metadata": {},
      "cell_type": "markdown",
      "source": "If we wish to explicitly set the data type of the resulting array, we use **dtype** keyword"
    },
    {
      "metadata": {
        "trusted": true
      },
      "cell_type": "code",
      "source": "np.array(list_same_type, dtype='float32')",
      "execution_count": 10,
      "outputs": [
        {
          "output_type": "execute_result",
          "execution_count": 10,
          "data": {
            "text/plain": "array([1., 2., 3., 4., 5.], dtype=float32)"
          },
          "metadata": {}
        }
      ]
    },
    {
      "metadata": {},
      "cell_type": "markdown",
      "source": "Numpy Arrays can be multi-dimensional"
    },
    {
      "metadata": {
        "trusted": true
      },
      "cell_type": "code",
      "source": "np.array([[1, 2, 3], [4, 5, 6], [7, 8, 9]])",
      "execution_count": 11,
      "outputs": [
        {
          "output_type": "execute_result",
          "execution_count": 11,
          "data": {
            "text/plain": "array([[1, 2, 3],\n       [4, 5, 6],\n       [7, 8, 9]])"
          },
          "metadata": {}
        }
      ]
    },
    {
      "metadata": {
        "trusted": true
      },
      "cell_type": "code",
      "source": "np.array([range(i, i+7) for i in range(4)])",
      "execution_count": 18,
      "outputs": [
        {
          "output_type": "execute_result",
          "execution_count": 18,
          "data": {
            "text/plain": "array([[0, 1, 2, 3, 4, 5, 6],\n       [1, 2, 3, 4, 5, 6, 7],\n       [2, 3, 4, 5, 6, 7, 8],\n       [3, 4, 5, 6, 7, 8, 9]])"
          },
          "metadata": {}
        }
      ]
    },
    {
      "metadata": {},
      "cell_type": "markdown",
      "source": "### Create arrays from scratch (without using lists)"
    },
    {
      "metadata": {},
      "cell_type": "markdown",
      "source": "For large amount of data, it is beneficial to create arrays from scratch using routines built into Numpy"
    },
    {
      "metadata": {
        "trusted": true
      },
      "cell_type": "code",
      "source": "#Create an array, length of 10, filled with zeros\nnp.zeros(10, dtype='int')",
      "execution_count": 19,
      "outputs": [
        {
          "output_type": "execute_result",
          "execution_count": 19,
          "data": {
            "text/plain": "array([0, 0, 0, 0, 0, 0, 0, 0, 0, 0])"
          },
          "metadata": {}
        }
      ]
    },
    {
      "metadata": {
        "trusted": true
      },
      "cell_type": "code",
      "source": "#Create a two dimensional array filled with 1\nnp.ones((2,2), dtype='float')",
      "execution_count": 20,
      "outputs": [
        {
          "output_type": "execute_result",
          "execution_count": 20,
          "data": {
            "text/plain": "array([[1., 1.],\n       [1., 1.]])"
          },
          "metadata": {}
        }
      ]
    },
    {
      "metadata": {
        "trusted": true
      },
      "cell_type": "code",
      "source": "#Create a two dimensional array filled with single value\nnp.full((2,2), 25)\n\n#Create a one dimensional array filled with single value\nnp.full(2, 25)",
      "execution_count": 23,
      "outputs": [
        {
          "output_type": "execute_result",
          "execution_count": 23,
          "data": {
            "text/plain": "array([25, 25])"
          },
          "metadata": {}
        }
      ]
    },
    {
      "metadata": {
        "trusted": true
      },
      "cell_type": "code",
      "source": "#Create a linear sequence \nnp.arange(0, 20, 2)",
      "execution_count": 24,
      "outputs": [
        {
          "output_type": "execute_result",
          "execution_count": 24,
          "data": {
            "text/plain": "array([ 0,  2,  4,  6,  8, 10, 12, 14, 16, 18])"
          },
          "metadata": {}
        }
      ]
    },
    {
      "metadata": {
        "trusted": true
      },
      "cell_type": "code",
      "source": "",
      "execution_count": null,
      "outputs": []
    }
  ],
  "metadata": {
    "kernelspec": {
      "name": "python36",
      "display_name": "Python 3.6",
      "language": "python"
    },
    "language_info": {
      "mimetype": "text/x-python",
      "nbconvert_exporter": "python",
      "name": "python",
      "pygments_lexer": "ipython3",
      "version": "3.6.6",
      "file_extension": ".py",
      "codemirror_mode": {
        "version": 3,
        "name": "ipython"
      }
    }
  },
  "nbformat": 4,
  "nbformat_minor": 2
}