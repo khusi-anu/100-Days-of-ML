{
  "cells": [
    {
      "metadata": {},
      "cell_type": "markdown",
      "source": "# Personal Notebook \n---"
    },
    {
      "metadata": {},
      "cell_type": "markdown",
      "source": "This notebook contains important facts and discoveries along the way of learning. All that fascinated me and I want them in one place."
    },
    {
      "metadata": {},
      "cell_type": "markdown",
      "source": "## A Python Integer Is More Than Just an Integer\n\nsource : [Introduction to Numpy](https://jakevdp.github.io/PythonDataScienceHandbook/02.01-understanding-data-types.html)\n"
    },
    {
      "metadata": {},
      "cell_type": "markdown",
      "source": "The standard Python implementation is written in C. This means that every Python object is simply a cleverly-disguised C structure, which contains not only its value, but other information as well. For example, when we define an integer in Python, such as x = 10000, x is not just a \"raw\" integer. It's actually a pointer to a compound C structure, which contains several values. Looking through the Python 3.4 source code, we find that the integer (long) type definition effectively looks like this (once the C macros are expanded):\n\nstruct _longobject {\n    long ob_refcnt;\n    PyTypeObject *ob_type;\n    size_t ob_size;\n    long ob_digit[1];\n};\n\nA single integer in Python 3.4 actually contains four pieces:\n\n    ob_refcnt, a reference count that helps Python silently handle memory allocation and deallocation\n    ob_type, which encodes the type of the variable\n    ob_size, which specifies the size of the following data members\n    ob_digit, which contains the actual integer value that we expect the Python variable to represent.\n"
    },
    {
      "metadata": {},
      "cell_type": "markdown",
      "source": "## Points to remember\n\n* Every variable in Python is a reference (a pointer) to an object and not the actual value itself. \n* Reference counting is a simple technique in which objects are deallocated when there is no reference to them in a program.\n"
    },
    {
      "metadata": {
        "trusted": true
      },
      "cell_type": "code",
      "source": "",
      "execution_count": null,
      "outputs": []
    }
  ],
  "metadata": {
    "kernelspec": {
      "name": "python36",
      "display_name": "Python 3.6",
      "language": "python"
    },
    "language_info": {
      "mimetype": "text/x-python",
      "nbconvert_exporter": "python",
      "name": "python",
      "pygments_lexer": "ipython3",
      "version": "3.6.6",
      "file_extension": ".py",
      "codemirror_mode": {
        "version": 3,
        "name": "ipython"
      }
    }
  },
  "nbformat": 4,
  "nbformat_minor": 1
}